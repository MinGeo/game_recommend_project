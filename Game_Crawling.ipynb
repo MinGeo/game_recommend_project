{
  "cells": [
    {
      "cell_type": "code",
      "execution_count": null,
      "metadata": {
        "colab": {
          "base_uri": "https://localhost:8080/"
        },
        "id": "d_j6oVxBLB51",
        "outputId": "325ad0d9-77a2-4170-952f-51e9963c5ca1"
      },
      "outputs": [],
      "source": [
        "!pip install requests\n",
        "!pip install bs4\n",
        "!pip install sklearn\n",
        "!pip install pandas\n",
        "!pip install matplotlib\n"
      ]
    },
    {
      "cell_type": "markdown",
      "metadata": {},
      "source": [
        "Metacritic 사이트로 부터 데이터 크롤링\n",
        "전체를 한번에 긁어오면 오류가 발생해, 1995~2022년을 년도 별로 나누어 크롤링 하였다."
      ]
    },
    {
      "cell_type": "code",
      "execution_count": null,
      "metadata": {
        "id": "tI9vENNBLP6q"
      },
      "outputs": [],
      "source": [
        "import requests\n",
        "from bs4 import BeautifulSoup\n",
        "import csv\n",
        "user_agent = {'User-agent': 'Mozilla/5.0'}\n",
        "links=[]\n",
        "data_list=[]\n",
        "first_row = ['name', 'platform', 'metascore', 'userscore', 'developer', 'genre']\n",
        "def get_href():\n",
        "  links = []\n",
        "  for i in range(0, 10) :\n",
        "    url = \"https://www.metacritic.com/browse/games/score/metascore/year/all/filtered?year_selected=2008&distribution=&sort=desc&view=detailed&page=\"+str(i)\n",
        "    html = requests.get(url, headers=user_agent)\n",
        "    soup = BeautifulSoup(html.content, 'html.parser')\n",
        "    td = soup.find_all('td', attrs = {'class':'clamp-summary-wrap'})\n",
        "    for k in td:\n",
        "      a = k.find(\"a\", class_=\"title\")['href']\n",
        "      links.append(\"https://www.metacritic.com/\"+a)\n",
        "  return links\n",
        "def get_data(links):\n",
        "  check = 0\n",
        "  temp_list = []\n",
        "  for link in links:\n",
        "    temp_genre=''\n",
        "    url = link\n",
        "    html = requests.get(url, headers=user_agent)\n",
        "    soup = BeautifulSoup(html.content, 'html.parser')\n",
        "    try:\n",
        "      name = soup.find(\"div\", class_=\"product_title\").find(\"h1\").get_text()\n",
        "      try:\n",
        "        platform = soup.find(\"span\", class_=\"platform\").get_text()\n",
        "      except:\n",
        "        platform = \"tbd\"\n",
        "      try:\n",
        "        metascore = soup.find(\"div\", class_=\"metascore_wrap highlight_metascore\").find(\"span\", itemprop=\"ratingValue\").get_text()\n",
        "      except:\n",
        "        metascore = \"tbd\"\n",
        "        userscore = soup.select('a.metascore_anchor')[0].text\n",
        "        check = 1\n",
        "      if check != 1:\n",
        "        userscore = soup.select('a.metascore_anchor')[1].text\n",
        "      try:\n",
        "        developer = soup.find(\"li\", class_=\"summary_detail developer\").find(\"span\", class_=\"data\").get_text()\n",
        "      except:\n",
        "        developer =\"tbd\"\n",
        "      genre = soup.find(\"li\", class_=\"summary_detail product_genre\").find_all(\"span\", class_=\"data\")\n",
        "      for i in range(len(genre)):\n",
        "        temp_genre += genre[i].get_text()\n",
        "      temp_list.append([name, platform, metascore, userscore, developer, temp_genre])\n",
        "    except:\n",
        "      pass\n",
        "  return temp_list\n",
        "def make_csv(data_list):\n",
        "  with open('2008topgame.csv', 'w', encoding='utf-8', newline='') as file:\n",
        "    csvfile = csv.writer(file)\n",
        "    csvfile.writerow(first_row)\n",
        "    for row in data_list:\n",
        "      csvfile.writerow(row)\n",
        "links = get_href()\n",
        "temp = get_data(links)\n",
        "data_list += temp\n",
        "make_csv(data_list)\n",
        "\n",
        "  \n",
        "\n",
        "\n",
        "\n",
        "\n",
        "\n",
        "\n",
        "\n"
      ]
    },
    {
      "cell_type": "code",
      "execution_count": null,
      "metadata": {},
      "outputs": [],
      "source": [
        "from operator import index\n",
        "import os\n",
        "from glob import glob\n",
        "import pandas as pd\n",
        "\n",
        "file_names = glob('./crawling_data/*.csv')\n",
        "total = pd.DataFrame()\n",
        "for file_name in file_names:\n",
        "    temp = pd.read_csv(file_name, encoding='utf-8')\n",
        "    total=pd.concat([total, temp])\n",
        "total.to_csv('./crawling_data/total.csv', index=False)"
      ]
    },
    {
      "cell_type": "markdown",
      "metadata": {
        "id": "wz4ozSEXCMgu"
      },
      "source": [
        "total.csv 파일 불러와서 중복 제거, tbd같은 데이터 0으로 변환, metascore, userscore 각각 int와 float로 변환"
      ]
    },
    {
      "cell_type": "code",
      "execution_count": null,
      "metadata": {
        "id": "LaAJzUjSuulV"
      },
      "outputs": [],
      "source": [
        "data = pd.read_csv('./crawling_data/total.csv')\n",
        "data = data.drop_duplicates(['name', 'platform', 'metascore', 'userscore'], ignore_index = True)\n",
        "data['metascore'] = data['metascore'].str.replace('tbd', '0')\n",
        "data['userscore'] = data['userscore'].str.replace('tbd', '0')\n",
        "data['platform'] = data['platform'].str.strip()\n",
        "data['metascore'] = data['metascore'].astype(int)\n",
        "data['userscore'] = data['userscore'].astype(float)                                \t\t    \n",
        "\n",
        "\n",
        "\n",
        "\n"
      ]
    },
    {
      "cell_type": "markdown",
      "metadata": {},
      "source": [
        "장르, 개발사, 게임 플랫폼을 합쳐서 feature라는 하나의 문자열 생성\n",
        "metascore와 userscore를 합친 totalscore라는 점수 생성"
      ]
    },
    {
      "cell_type": "code",
      "execution_count": null,
      "metadata": {
        "id": "FM8GELeNuulV"
      },
      "outputs": [],
      "source": [
        "data['feature'] = data['genre']+data['developer']+data['platform']\n",
        "data['totalscore'] = data['metascore']+data['userscore']*10"
      ]
    },
    {
      "cell_type": "markdown",
      "metadata": {
        "id": "5gJPzWHh6uDA"
      },
      "source": [
        "TF-IDF 수행"
      ]
    },
    {
      "cell_type": "code",
      "execution_count": null,
      "metadata": {
        "colab": {
          "base_uri": "https://localhost:8080/"
        },
        "id": "104F2EpUuulV",
        "outputId": "b0fedd06-da37-4b65-89d9-c6a84ae3fa84"
      },
      "outputs": [],
      "source": [
        "from sklearn.feature_extraction.text import TfidfVectorizer, CountVectorizer\n",
        "from sklearn.metrics.pairwise import linear_kernel\n",
        "from sklearn.decomposition import PCA\n",
        "from sklearn.utils.extmath import randomized_svd\n",
        "import numpy as np\n",
        "import numpy.linalg as LA\n",
        "import matplotlib.pyplot as plt\n",
        "tf = TfidfVectorizer(analyzer='word',ngram_range=(1, 5), stop_words='english')\n",
        "tfidf_matrix = tf.fit_transform(data['feature'])\n",
        "print(tfidf_matrix.shape)\n",
        "print(tfidf_matrix.toarray())\n"
      ]
    },
    {
      "cell_type": "markdown",
      "metadata": {},
      "source": [
        "Randomized svd로 tfidf matrix 분해"
      ]
    },
    {
      "cell_type": "code",
      "execution_count": null,
      "metadata": {},
      "outputs": [],
      "source": [
        "U, s, V = randomized_svd(tfidf_matrix, n_components = 200)\n"
      ]
    },
    {
      "cell_type": "markdown",
      "metadata": {
        "id": "VWrgzONs6yfe"
      },
      "source": [
        "left singular matrix (game x latent factor)를 이용해 코사인 유사도 측정"
      ]
    },
    {
      "cell_type": "code",
      "execution_count": null,
      "metadata": {
        "id": "wZNGkpMi-8CM"
      },
      "outputs": [],
      "source": [
        "cosine_sim = linear_kernel(U)\n",
        "cosine_sim = cosine_sim.argsort()[:, ::-1]\n",
        "print(cosine_sim[:10, :10])\n"
      ]
    },
    {
      "cell_type": "markdown",
      "metadata": {},
      "source": [
        "cosine similarity를 바탕으로 유사도 상위 10개 게임 출력 (추후 내가 맞는 플랫폼 필터링과 메타스코어, 유저 평점 적용 예정)"
      ]
    },
    {
      "cell_type": "code",
      "execution_count": null,
      "metadata": {
        "id": "LUoj39E865qc"
      },
      "outputs": [],
      "source": [
        "def find_sim_game(data, cosine_sim, game_name, game_platform, user_platform, top=10):\n",
        "    game_a = data[(data['name'] == game_name)&(data['platform']== game_platform)]\n",
        "    game_name_check = data[data['name'] == game_name]\n",
        "    platform = data[data['platform'] != user_platform]\n",
        "    platform_index = platform.index.values\n",
        "    print(platform_index)\n",
        "    game_name_check_index = game_name_check.index.values\n",
        "    game_index = game_a.index.values\n",
        "    sim_index = cosine_sim[game_index]\n",
        "    sim_index = sim_index.reshape(-1)\n",
        "    print(sim_index)\n",
        "    for i in platform_index:\n",
        "        sim_index = sim_index[sim_index != i]\n",
        "    for i in game_name_check_index:\n",
        "        sim_index = sim_index[sim_index != i]\n",
        "    return data.loc[sim_index][:top].sort_values(by=['totalscore'], ascending=False)\n",
        "print(find_sim_game(data, cosine_sim, game_name = \"Super Mario Galaxy\", game_platform='Wii', user_platform='Switch'))\n",
        "\n"
      ]
    },
    {
      "cell_type": "markdown",
      "metadata": {},
      "source": [
        "n_components 값에 따른 Reconstruction Error 측정\n",
        "Runtime이 매우 기므로 실행할 때 주의할 것"
      ]
    },
    {
      "cell_type": "code",
      "execution_count": null,
      "metadata": {},
      "outputs": [],
      "source": [
        "norm_list = []\n",
        "num_list = []\n",
        "for i in range(1, 1001, 100):\n",
        "    U, s, V = randomized_svd(tfidf_matrix, n_components = i)\n",
        "    s = np.diag(s)\n",
        "    X_reconstruction = np.dot(np.dot(U,s), V)\n",
        "    A = tfidf_matrix.toarray()-X_reconstruction\n",
        "    k = LA.norm(A)\n",
        "    num_list.append(i)\n",
        "    norm_list.append(k)\n",
        " "
      ]
    },
    {
      "cell_type": "markdown",
      "metadata": {},
      "source": [
        "게임 추천 시스템 구현 with FLASK"
      ]
    },
    {
      "cell_type": "code",
      "execution_count": null,
      "metadata": {},
      "outputs": [],
      "source": [
        "!pip install flask\n",
        "!pip install flask-ngrok\n",
        "!pip install wget"
      ]
    },
    {
      "cell_type": "code",
      "execution_count": null,
      "metadata": {},
      "outputs": [],
      "source": [
        "import wget"
      ]
    },
    {
      "cell_type": "code",
      "execution_count": null,
      "metadata": {},
      "outputs": [],
      "source": [
        "wget.download('https://bin.equinox.io/c/4VmDzA7iaHb/ngrok-stable-linux-amd64.tgz')"
      ]
    },
    {
      "cell_type": "markdown",
      "metadata": {},
      "source": [
        "ngrok 연결"
      ]
    },
    {
      "cell_type": "code",
      "execution_count": null,
      "metadata": {},
      "outputs": [],
      "source": [
        "!tar -xvf ./ngrok-stable-linux-amd64.tgz"
      ]
    },
    {
      "cell_type": "code",
      "execution_count": null,
      "metadata": {},
      "outputs": [],
      "source": [
        "!ngrok authtoken '2EpvJkNx4hDlzBrjDEpkmtBnihp_2tEVCwiAdxh5nWne33P9H'"
      ]
    },
    {
      "cell_type": "markdown",
      "metadata": {},
      "source": [
        "Flask를 이용해 웹 애플리케이션 생성"
      ]
    },
    {
      "cell_type": "code",
      "execution_count": null,
      "metadata": {},
      "outputs": [],
      "source": [
        "from flask import Flask, render_template, request, jsonify\n",
        "from flask_ngrok import run_with_ngrok\n",
        "\n",
        "app = Flask(__name__)\n",
        "run_with_ngrok(app)\n",
        "@app.route('/')\n",
        "def main():\n",
        "        return render_template(\"main.html\")\n",
        "@app.route('/result', methods=['POST', 'GET'])\n",
        "def recommend():\n",
        "    if request.method == 'POST':\n",
        "        game_name = request.form['game_name']\n",
        "        game_platform = request.form['game_platform']\n",
        "        user_platform = request.form['user_platform']\n",
        "        a = find_sim_game(data, cosine_sim, game_name, game_platform, user_platform)\n",
        "        a = a.drop(['platform', 'totalscore', 'genre', 'developer', 'feature'], axis=1)\n",
        "        return render_template(\"result.html\",tables = [a.to_html(index=False)])\n",
        "if __name__== \"__main__\":\n",
        "    app.run()"
      ]
    }
  ],
  "metadata": {
    "colab": {
      "collapsed_sections": [],
      "provenance": []
    },
    "kernelspec": {
      "display_name": "Python 3.10.4 ('practice')",
      "language": "python",
      "name": "python3"
    },
    "language_info": {
      "codemirror_mode": {
        "name": "ipython",
        "version": 3
      },
      "file_extension": ".py",
      "mimetype": "text/x-python",
      "name": "python",
      "nbconvert_exporter": "python",
      "pygments_lexer": "ipython3",
      "version": "3.10.4"
    },
    "vscode": {
      "interpreter": {
        "hash": "6d0372ee8eebbd7546cedbe5a8c22c0ccb8ca7ab54043f267348ee6264d56891"
      }
    }
  },
  "nbformat": 4,
  "nbformat_minor": 0
}
