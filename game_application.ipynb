{
 "cells": [
  {
   "cell_type": "markdown",
   "metadata": {},
   "source": [
    "게임 추천 시스템 구현 with FLASK"
   ]
  },
  {
   "cell_type": "code",
   "execution_count": 1,
   "metadata": {},
   "outputs": [
    {
     "name": "stdout",
     "output_type": "stream",
     "text": [
      "Requirement already satisfied: flask in /Users/bite_apple/opt/anaconda3/envs/practice/lib/python3.10/site-packages (2.2.2)\n",
      "Requirement already satisfied: itsdangerous>=2.0 in /Users/bite_apple/opt/anaconda3/envs/practice/lib/python3.10/site-packages (from flask) (2.1.2)\n",
      "Requirement already satisfied: Werkzeug>=2.2.2 in /Users/bite_apple/opt/anaconda3/envs/practice/lib/python3.10/site-packages (from flask) (2.2.2)\n",
      "Requirement already satisfied: click>=8.0 in /Users/bite_apple/opt/anaconda3/envs/practice/lib/python3.10/site-packages (from flask) (8.1.3)\n",
      "Requirement already satisfied: Jinja2>=3.0 in /Users/bite_apple/opt/anaconda3/envs/practice/lib/python3.10/site-packages (from flask) (3.1.2)\n",
      "Requirement already satisfied: MarkupSafe>=2.0 in /Users/bite_apple/opt/anaconda3/envs/practice/lib/python3.10/site-packages (from Jinja2>=3.0->flask) (2.1.1)\n",
      "Requirement already satisfied: flask-ngrok in /Users/bite_apple/opt/anaconda3/envs/practice/lib/python3.10/site-packages (0.0.25)\n",
      "Requirement already satisfied: Flask>=0.8 in /Users/bite_apple/opt/anaconda3/envs/practice/lib/python3.10/site-packages (from flask-ngrok) (2.2.2)\n",
      "Requirement already satisfied: requests in /Users/bite_apple/opt/anaconda3/envs/practice/lib/python3.10/site-packages (from flask-ngrok) (2.28.1)\n",
      "Requirement already satisfied: itsdangerous>=2.0 in /Users/bite_apple/opt/anaconda3/envs/practice/lib/python3.10/site-packages (from Flask>=0.8->flask-ngrok) (2.1.2)\n",
      "Requirement already satisfied: Werkzeug>=2.2.2 in /Users/bite_apple/opt/anaconda3/envs/practice/lib/python3.10/site-packages (from Flask>=0.8->flask-ngrok) (2.2.2)\n",
      "Requirement already satisfied: Jinja2>=3.0 in /Users/bite_apple/opt/anaconda3/envs/practice/lib/python3.10/site-packages (from Flask>=0.8->flask-ngrok) (3.1.2)\n",
      "Requirement already satisfied: click>=8.0 in /Users/bite_apple/opt/anaconda3/envs/practice/lib/python3.10/site-packages (from Flask>=0.8->flask-ngrok) (8.1.3)\n",
      "Requirement already satisfied: certifi>=2017.4.17 in /Users/bite_apple/opt/anaconda3/envs/practice/lib/python3.10/site-packages (from requests->flask-ngrok) (2022.9.14)\n",
      "Requirement already satisfied: idna<4,>=2.5 in /Users/bite_apple/opt/anaconda3/envs/practice/lib/python3.10/site-packages (from requests->flask-ngrok) (3.4)\n",
      "Requirement already satisfied: urllib3<1.27,>=1.21.1 in /Users/bite_apple/opt/anaconda3/envs/practice/lib/python3.10/site-packages (from requests->flask-ngrok) (1.26.12)\n",
      "Requirement already satisfied: charset-normalizer<3,>=2 in /Users/bite_apple/opt/anaconda3/envs/practice/lib/python3.10/site-packages (from requests->flask-ngrok) (2.1.1)\n",
      "Requirement already satisfied: MarkupSafe>=2.0 in /Users/bite_apple/opt/anaconda3/envs/practice/lib/python3.10/site-packages (from Jinja2>=3.0->Flask>=0.8->flask-ngrok) (2.1.1)\n",
      "Requirement already satisfied: wget in /Users/bite_apple/opt/anaconda3/envs/practice/lib/python3.10/site-packages (3.2)\n",
      "Collecting import_ipynb\n",
      "  Downloading import_ipynb-0.1.4-py3-none-any.whl (4.1 kB)\n",
      "Collecting nbformat\n",
      "  Downloading nbformat-5.7.0-py3-none-any.whl (77 kB)\n",
      "\u001b[2K     \u001b[90m━━━━━━━━━━━━━━━━━━━━━━━━━━━━━━━━━━━━━━━━\u001b[0m \u001b[32m77.1/77.1 kB\u001b[0m \u001b[31m1.7 MB/s\u001b[0m eta \u001b[36m0:00:00\u001b[0ma \u001b[36m0:00:01\u001b[0m\n",
      "\u001b[?25hRequirement already satisfied: IPython in /Users/bite_apple/opt/anaconda3/envs/practice/lib/python3.10/site-packages (from import_ipynb) (8.4.0)\n",
      "Requirement already satisfied: traitlets>=5 in /Users/bite_apple/opt/anaconda3/envs/practice/lib/python3.10/site-packages (from IPython->import_ipynb) (5.1.1)\n",
      "Requirement already satisfied: appnope in /Users/bite_apple/opt/anaconda3/envs/practice/lib/python3.10/site-packages (from IPython->import_ipynb) (0.1.2)\n",
      "Requirement already satisfied: pickleshare in /Users/bite_apple/opt/anaconda3/envs/practice/lib/python3.10/site-packages (from IPython->import_ipynb) (0.7.5)\n",
      "Requirement already satisfied: pexpect>4.3 in /Users/bite_apple/opt/anaconda3/envs/practice/lib/python3.10/site-packages (from IPython->import_ipynb) (4.8.0)\n",
      "Requirement already satisfied: stack-data in /Users/bite_apple/opt/anaconda3/envs/practice/lib/python3.10/site-packages (from IPython->import_ipynb) (0.2.0)\n",
      "Requirement already satisfied: prompt-toolkit!=3.0.0,!=3.0.1,<3.1.0,>=2.0.0 in /Users/bite_apple/opt/anaconda3/envs/practice/lib/python3.10/site-packages (from IPython->import_ipynb) (3.0.20)\n",
      "Requirement already satisfied: backcall in /Users/bite_apple/opt/anaconda3/envs/practice/lib/python3.10/site-packages (from IPython->import_ipynb) (0.2.0)\n",
      "Requirement already satisfied: setuptools>=18.5 in /Users/bite_apple/opt/anaconda3/envs/practice/lib/python3.10/site-packages (from IPython->import_ipynb) (63.4.1)\n",
      "Requirement already satisfied: decorator in /Users/bite_apple/opt/anaconda3/envs/practice/lib/python3.10/site-packages (from IPython->import_ipynb) (5.1.1)\n",
      "Requirement already satisfied: jedi>=0.16 in /Users/bite_apple/opt/anaconda3/envs/practice/lib/python3.10/site-packages (from IPython->import_ipynb) (0.18.1)\n",
      "Requirement already satisfied: pygments>=2.4.0 in /Users/bite_apple/opt/anaconda3/envs/practice/lib/python3.10/site-packages (from IPython->import_ipynb) (2.11.2)\n",
      "Requirement already satisfied: matplotlib-inline in /Users/bite_apple/opt/anaconda3/envs/practice/lib/python3.10/site-packages (from IPython->import_ipynb) (0.1.6)\n",
      "Collecting jsonschema>=2.6\n",
      "  Using cached jsonschema-4.16.0-py3-none-any.whl (83 kB)\n",
      "Requirement already satisfied: jupyter-core in /Users/bite_apple/opt/anaconda3/envs/practice/lib/python3.10/site-packages (from nbformat->import_ipynb) (4.10.0)\n",
      "Collecting fastjsonschema\n",
      "  Downloading fastjsonschema-2.16.2-py3-none-any.whl (22 kB)\n",
      "Requirement already satisfied: parso<0.9.0,>=0.8.0 in /Users/bite_apple/opt/anaconda3/envs/practice/lib/python3.10/site-packages (from jedi>=0.16->IPython->import_ipynb) (0.8.3)\n",
      "Collecting pyrsistent!=0.17.0,!=0.17.1,!=0.17.2,>=0.14.0\n",
      "  Using cached pyrsistent-0.18.1-cp310-cp310-macosx_10_9_universal2.whl (81 kB)\n",
      "Collecting attrs>=17.4.0\n",
      "  Using cached attrs-22.1.0-py2.py3-none-any.whl (58 kB)\n",
      "Requirement already satisfied: ptyprocess>=0.5 in /Users/bite_apple/opt/anaconda3/envs/practice/lib/python3.10/site-packages (from pexpect>4.3->IPython->import_ipynb) (0.7.0)\n",
      "Requirement already satisfied: wcwidth in /Users/bite_apple/opt/anaconda3/envs/practice/lib/python3.10/site-packages (from prompt-toolkit!=3.0.0,!=3.0.1,<3.1.0,>=2.0.0->IPython->import_ipynb) (0.2.5)\n",
      "Requirement already satisfied: pure-eval in /Users/bite_apple/opt/anaconda3/envs/practice/lib/python3.10/site-packages (from stack-data->IPython->import_ipynb) (0.2.2)\n",
      "Requirement already satisfied: asttokens in /Users/bite_apple/opt/anaconda3/envs/practice/lib/python3.10/site-packages (from stack-data->IPython->import_ipynb) (2.0.5)\n",
      "Requirement already satisfied: executing in /Users/bite_apple/opt/anaconda3/envs/practice/lib/python3.10/site-packages (from stack-data->IPython->import_ipynb) (0.8.3)\n",
      "Requirement already satisfied: six in /Users/bite_apple/opt/anaconda3/envs/practice/lib/python3.10/site-packages (from asttokens->stack-data->IPython->import_ipynb) (1.16.0)\n",
      "Installing collected packages: fastjsonschema, pyrsistent, attrs, jsonschema, nbformat, import_ipynb\n",
      "Successfully installed attrs-22.1.0 fastjsonschema-2.16.2 import_ipynb-0.1.4 jsonschema-4.16.0 nbformat-5.7.0 pyrsistent-0.18.1\n"
     ]
    }
   ],
   "source": [
    "!pip install flask\n",
    "!pip install flask-ngrok\n",
    "!pip install wget\n",
    "!pip install import_ipynb"
   ]
  },
  {
   "cell_type": "code",
   "execution_count": 2,
   "metadata": {},
   "outputs": [
    {
     "name": "stdout",
     "output_type": "stream",
     "text": [
      "importing Jupyter notebook from Game_Crawling.ipynb\n",
      "Requirement already satisfied: requests in /Users/bite_apple/opt/anaconda3/envs/practice/lib/python3.10/site-packages (2.28.1)\n",
      "Requirement already satisfied: certifi>=2017.4.17 in /Users/bite_apple/opt/anaconda3/envs/practice/lib/python3.10/site-packages (from requests) (2022.9.14)\n",
      "Requirement already satisfied: charset-normalizer<3,>=2 in /Users/bite_apple/opt/anaconda3/envs/practice/lib/python3.10/site-packages (from requests) (2.1.1)\n",
      "Requirement already satisfied: urllib3<1.27,>=1.21.1 in /Users/bite_apple/opt/anaconda3/envs/practice/lib/python3.10/site-packages (from requests) (1.26.12)\n",
      "Requirement already satisfied: idna<4,>=2.5 in /Users/bite_apple/opt/anaconda3/envs/practice/lib/python3.10/site-packages (from requests) (3.4)\n",
      "Requirement already satisfied: bs4 in /Users/bite_apple/opt/anaconda3/envs/practice/lib/python3.10/site-packages (0.0.1)\n",
      "Requirement already satisfied: beautifulsoup4 in /Users/bite_apple/opt/anaconda3/envs/practice/lib/python3.10/site-packages (from bs4) (4.11.1)\n",
      "Requirement already satisfied: soupsieve>1.2 in /Users/bite_apple/opt/anaconda3/envs/practice/lib/python3.10/site-packages (from beautifulsoup4->bs4) (2.3.2.post1)\n",
      "Requirement already satisfied: sklearn in /Users/bite_apple/opt/anaconda3/envs/practice/lib/python3.10/site-packages (0.0)\n",
      "Requirement already satisfied: scikit-learn in /Users/bite_apple/opt/anaconda3/envs/practice/lib/python3.10/site-packages (from sklearn) (1.1.2)\n",
      "Requirement already satisfied: numpy>=1.17.3 in /Users/bite_apple/opt/anaconda3/envs/practice/lib/python3.10/site-packages (from scikit-learn->sklearn) (1.23.3)\n",
      "Requirement already satisfied: threadpoolctl>=2.0.0 in /Users/bite_apple/opt/anaconda3/envs/practice/lib/python3.10/site-packages (from scikit-learn->sklearn) (3.1.0)\n",
      "Requirement already satisfied: scipy>=1.3.2 in /Users/bite_apple/opt/anaconda3/envs/practice/lib/python3.10/site-packages (from scikit-learn->sklearn) (1.9.2)\n",
      "Requirement already satisfied: joblib>=1.0.0 in /Users/bite_apple/opt/anaconda3/envs/practice/lib/python3.10/site-packages (from scikit-learn->sklearn) (1.2.0)\n",
      "Requirement already satisfied: pandas in /Users/bite_apple/opt/anaconda3/envs/practice/lib/python3.10/site-packages (1.5.0)\n",
      "Requirement already satisfied: python-dateutil>=2.8.1 in /Users/bite_apple/opt/anaconda3/envs/practice/lib/python3.10/site-packages (from pandas) (2.8.2)\n",
      "Requirement already satisfied: pytz>=2020.1 in /Users/bite_apple/opt/anaconda3/envs/practice/lib/python3.10/site-packages (from pandas) (2022.4)\n",
      "Requirement already satisfied: numpy>=1.21.0 in /Users/bite_apple/opt/anaconda3/envs/practice/lib/python3.10/site-packages (from pandas) (1.23.3)\n",
      "Requirement already satisfied: six>=1.5 in /Users/bite_apple/opt/anaconda3/envs/practice/lib/python3.10/site-packages (from python-dateutil>=2.8.1->pandas) (1.16.0)\n",
      "Requirement already satisfied: matplotlib in /Users/bite_apple/opt/anaconda3/envs/practice/lib/python3.10/site-packages (3.6.1)\n",
      "Requirement already satisfied: kiwisolver>=1.0.1 in /Users/bite_apple/opt/anaconda3/envs/practice/lib/python3.10/site-packages (from matplotlib) (1.4.4)\n",
      "Requirement already satisfied: contourpy>=1.0.1 in /Users/bite_apple/opt/anaconda3/envs/practice/lib/python3.10/site-packages (from matplotlib) (1.0.5)\n",
      "Requirement already satisfied: packaging>=20.0 in /Users/bite_apple/opt/anaconda3/envs/practice/lib/python3.10/site-packages (from matplotlib) (21.3)\n",
      "Requirement already satisfied: numpy>=1.19 in /Users/bite_apple/opt/anaconda3/envs/practice/lib/python3.10/site-packages (from matplotlib) (1.23.3)\n",
      "Requirement already satisfied: python-dateutil>=2.7 in /Users/bite_apple/opt/anaconda3/envs/practice/lib/python3.10/site-packages (from matplotlib) (2.8.2)\n",
      "Requirement already satisfied: fonttools>=4.22.0 in /Users/bite_apple/opt/anaconda3/envs/practice/lib/python3.10/site-packages (from matplotlib) (4.37.4)\n",
      "Requirement already satisfied: pillow>=6.2.0 in /Users/bite_apple/opt/anaconda3/envs/practice/lib/python3.10/site-packages (from matplotlib) (9.2.0)\n",
      "Requirement already satisfied: cycler>=0.10 in /Users/bite_apple/opt/anaconda3/envs/practice/lib/python3.10/site-packages (from matplotlib) (0.11.0)\n",
      "Requirement already satisfied: pyparsing>=2.2.1 in /Users/bite_apple/opt/anaconda3/envs/practice/lib/python3.10/site-packages (from matplotlib) (3.0.9)\n",
      "Requirement already satisfied: six>=1.5 in /Users/bite_apple/opt/anaconda3/envs/practice/lib/python3.10/site-packages (from python-dateutil>=2.7->matplotlib) (1.16.0)\n"
     ]
    },
    {
     "ename": "ModuleNotFoundError",
     "evalue": "No module named 'google'",
     "output_type": "error",
     "traceback": [
      "\u001b[0;31m---------------------------------------------------------------------------\u001b[0m",
      "\u001b[0;31mModuleNotFoundError\u001b[0m                       Traceback (most recent call last)",
      "\u001b[1;32m/Users/bite_apple/Desktop/game_recommend_project/game_application.ipynb 셀 3\u001b[0m in \u001b[0;36m<cell line: 3>\u001b[0;34m()\u001b[0m\n\u001b[1;32m      <a href='vscode-notebook-cell:/Users/bite_apple/Desktop/game_recommend_project/game_application.ipynb#W2sZmlsZQ%3D%3D?line=0'>1</a>\u001b[0m \u001b[39mimport\u001b[39;00m \u001b[39mwget\u001b[39;00m\n\u001b[1;32m      <a href='vscode-notebook-cell:/Users/bite_apple/Desktop/game_recommend_project/game_application.ipynb#W2sZmlsZQ%3D%3D?line=1'>2</a>\u001b[0m \u001b[39mimport\u001b[39;00m \u001b[39mimport_ipynb\u001b[39;00m\n\u001b[0;32m----> <a href='vscode-notebook-cell:/Users/bite_apple/Desktop/game_recommend_project/game_application.ipynb#W2sZmlsZQ%3D%3D?line=2'>3</a>\u001b[0m \u001b[39mfrom\u001b[39;00m \u001b[39mGame_Crawling\u001b[39;00m \u001b[39mimport\u001b[39;00m find_sim_game\n",
      "File \u001b[0;32m~/opt/anaconda3/envs/practice/lib/python3.10/site-packages/import_ipynb.py:61\u001b[0m, in \u001b[0;36mNotebookLoader.load_module\u001b[0;34m(self, fullname)\u001b[0m\n\u001b[1;32m     59\u001b[0m         code \u001b[39m=\u001b[39m \u001b[39mself\u001b[39m\u001b[39m.\u001b[39mshell\u001b[39m.\u001b[39minput_transformer_manager\u001b[39m.\u001b[39mtransform_cell(cell\u001b[39m.\u001b[39msource)\n\u001b[1;32m     60\u001b[0m         \u001b[39m# run the code in themodule\u001b[39;00m\n\u001b[0;32m---> 61\u001b[0m         exec(code, mod\u001b[39m.\u001b[39;49m\u001b[39m__dict__\u001b[39;49m)\n\u001b[1;32m     62\u001b[0m \u001b[39mfinally\u001b[39;00m:\n\u001b[1;32m     63\u001b[0m     \u001b[39mself\u001b[39m\u001b[39m.\u001b[39mshell\u001b[39m.\u001b[39muser_ns \u001b[39m=\u001b[39m save_user_ns\n",
      "File \u001b[0;32m<string>:1\u001b[0m, in \u001b[0;36m<module>\u001b[0;34m\u001b[0m\n",
      "\u001b[0;31mModuleNotFoundError\u001b[0m: No module named 'google'"
     ]
    }
   ],
   "source": [
    "import wget\n",
    "import import_ipynb\n",
    "from Game_Crawling import find_sim_game"
   ]
  },
  {
   "cell_type": "code",
   "execution_count": 4,
   "metadata": {},
   "outputs": [
    {
     "data": {
      "text/plain": [
       "'ngrok-stable-linux-amd64.tgz'"
      ]
     },
     "execution_count": 4,
     "metadata": {},
     "output_type": "execute_result"
    }
   ],
   "source": [
    "wget.download('https://bin.equinox.io/c/4VmDzA7iaHb/ngrok-stable-linux-amd64.tgz')"
   ]
  },
  {
   "cell_type": "code",
   "execution_count": 9,
   "metadata": {},
   "outputs": [
    {
     "name": "stdout",
     "output_type": "stream",
     "text": [
      "x ngrok\n"
     ]
    }
   ],
   "source": [
    "!tar -xvf ./ngrok-stable-linux-amd64.tgz"
   ]
  },
  {
   "cell_type": "code",
   "execution_count": 10,
   "metadata": {},
   "outputs": [
    {
     "name": "stdout",
     "output_type": "stream",
     "text": [
      "Authtoken saved to configuration file: /Users/bite_apple/Library/Application Support/ngrok/ngrok.yml\n"
     ]
    }
   ],
   "source": [
    "!ngrok authtoken '2EpvJkNx4hDlzBrjDEpkmtBnihp_2tEVCwiAdxh5nWne33P9H'"
   ]
  },
  {
   "cell_type": "code",
   "execution_count": 11,
   "metadata": {},
   "outputs": [
    {
     "name": "stdout",
     "output_type": "stream",
     "text": [
      " * Serving Flask app '__main__'\n",
      " * Debug mode: off\n"
     ]
    },
    {
     "name": "stderr",
     "output_type": "stream",
     "text": [
      "\u001b[31m\u001b[1mWARNING: This is a development server. Do not use it in a production deployment. Use a production WSGI server instead.\u001b[0m\n",
      " * Running on http://127.0.0.1:5000\n",
      "\u001b[33mPress CTRL+C to quit\u001b[0m\n",
      "Exception in thread Thread-5:\n",
      "Traceback (most recent call last):\n",
      "  File \"/Users/bite_apple/opt/anaconda3/envs/practice/lib/python3.10/threading.py\", line 1009, in _bootstrap_inner\n",
      "    self.run()\n",
      "  File \"/Users/bite_apple/opt/anaconda3/envs/practice/lib/python3.10/threading.py\", line 1371, in run\n",
      "    self.function(*self.args, **self.kwargs)\n",
      "  File \"/Users/bite_apple/opt/anaconda3/envs/practice/lib/python3.10/site-packages/flask_ngrok.py\", line 70, in start_ngrok\n",
      "    ngrok_address = _run_ngrok()\n",
      "  File \"/Users/bite_apple/opt/anaconda3/envs/practice/lib/python3.10/site-packages/flask_ngrok.py\", line 31, in _run_ngrok\n",
      "    ngrok = subprocess.Popen([executable, 'http', '5000'])\n",
      "  File \"/Users/bite_apple/opt/anaconda3/envs/practice/lib/python3.10/subprocess.py\", line 966, in __init__\n",
      "    self._execute_child(args, executable, preexec_fn, close_fds,\n",
      "  File \"/Users/bite_apple/opt/anaconda3/envs/practice/lib/python3.10/subprocess.py\", line 1842, in _execute_child\n",
      "    raise child_exception_type(errno_num, err_msg, err_filename)\n",
      "PermissionError: [Errno 13] Permission denied: '/var/folders/_w/v5j8wy3j36953tjcdy_j53rm0000gn/T/ngrok/ngrok'\n",
      "127.0.0.1 - - [20/Oct/2022 16:46:50] \"GET / HTTP/1.1\" 200 -\n",
      "127.0.0.1 - - [20/Oct/2022 16:46:50] \"\u001b[33mGET /favicon.ico HTTP/1.1\u001b[0m\" 404 -\n"
     ]
    }
   ],
   "source": [
    "from flask import Flask, render_template, request, jsonify\n",
    "from flask_ngrok import run_with_ngrok\n",
    "\n",
    "app = Flask(__name__)\n",
    "run_with_ngrok(app)\n",
    "@app.route('/')\n",
    "def hello_world():\n",
    "    return \"Hello Flask and Ngrok!\"\n",
    "if __name__== \"__main__\":\n",
    "    app.run()"
   ]
  },
  {
   "cell_type": "code",
   "execution_count": null,
   "metadata": {},
   "outputs": [],
   "source": []
  }
 ],
 "metadata": {
  "kernelspec": {
   "display_name": "Python 3.10.4 ('practice')",
   "language": "python",
   "name": "python3"
  },
  "language_info": {
   "codemirror_mode": {
    "name": "ipython",
    "version": 3
   },
   "file_extension": ".py",
   "mimetype": "text/x-python",
   "name": "python",
   "nbconvert_exporter": "python",
   "pygments_lexer": "ipython3",
   "version": "3.10.4"
  },
  "orig_nbformat": 4,
  "vscode": {
   "interpreter": {
    "hash": "6d0372ee8eebbd7546cedbe5a8c22c0ccb8ca7ab54043f267348ee6264d56891"
   }
  }
 },
 "nbformat": 4,
 "nbformat_minor": 2
}
